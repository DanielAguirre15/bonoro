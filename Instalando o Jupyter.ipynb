{
 "cells": [
  {
   "cell_type": "markdown",
   "metadata": {},
   "source": [
    "<h3>Instalar o Jupyter Notebook/Anaconda no Windows</h3>\n",
    "\n",
    "1- Fazer o download no site www.anaconda.com\n",
    "\n",
    "2- Executar e clicar em next e marcar os checkboxes até instalar.\n",
    "\n",
    "3- Abrir tela do prompt do comando e criar uma pasta para armazenar os arquivos em qualquer local.\n",
    "\n",
    "4- Executar o programa do Anaconda e abrir o Jupyter Notebook\n",
    "\n",
    "5- Criar um novo arquivo, abrirá uma nova tela.\n",
    "\n",
    "6- Selecionar Markdown e digitar o texto no campo.\n",
    "\n",
    "7- Run para rodar e apresentar o texto no formato com tags HTML, se tiver e Salvar."
   ]
  },
  {
   "cell_type": "code",
   "execution_count": null,
   "metadata": {},
   "outputs": [],
   "source": []
  }
 ],
 "metadata": {
  "kernelspec": {
   "display_name": "Python 3",
   "language": "python",
   "name": "python3"
  },
  "language_info": {
   "codemirror_mode": {
    "name": "ipython",
    "version": 3
   },
   "file_extension": ".py",
   "mimetype": "text/x-python",
   "name": "python",
   "nbconvert_exporter": "python",
   "pygments_lexer": "ipython3",
   "version": "3.7.3"
  }
 },
 "nbformat": 4,
 "nbformat_minor": 2
}
