{
 "cells": [
  {
   "cell_type": "markdown",
   "metadata": {},
   "source": [
    "<h3>Código para fazer a luz piscar 3 vezes e depois delay e piscar 3 vezes de novo e loop infinito</h3>\n",
    "\n",
    "// Preparação do Arduino, este código irá rodar uma única vez <br><br>\n",
    "\n",
    "void setup() { <br><br>\n",
    "\n",
    "   // Colocamos o pino 12 do Arduino como OUTPUT (saída) <br>\n",
    "   pinMode(12, OUTPUT); <br><br>\n",
    "   \n",
    "} <br><br>\n",
    "\n",
    "   // Este código é chamado automáticamente pelo Arduino, ficará em loop até que seu Arduino seja desligado <br><br>\n",
    "\n",
    "void loop() { <br><br> \n",
    "\n",
    "   // Ativamos o pino 12 (colocando 5v nele) <br> \n",
    "   digitalWrite(12, HIGH); <br><br>\n",
    "\n",
    "   // Aguardamos 1 segundo <br> \n",
    "   delay(1000); <br><br>\n",
    "   \n",
    "   // Desligamos o pino 12 <br>\n",
    "   digitalWrite(12, LOW); <br><br>\n",
    "   \n",
    "   // Aguardamos mais um segundo <br>\n",
    "   delay(1000); <br><br>\n",
    "   \n",
    "   // Este código irá se repetir eternamente \n",
    "\n",
    "}"
   ]
  },
  {
   "cell_type": "code",
   "execution_count": null,
   "metadata": {},
   "outputs": [],
   "source": []
  }
 ],
 "metadata": {
  "kernelspec": {
   "display_name": "Python 3",
   "language": "python",
   "name": "python3"
  },
  "language_info": {
   "codemirror_mode": {
    "name": "ipython",
    "version": 3
   },
   "file_extension": ".py",
   "mimetype": "text/x-python",
   "name": "python",
   "nbconvert_exporter": "python",
   "pygments_lexer": "ipython3",
   "version": "3.7.3"
  }
 },
 "nbformat": 4,
 "nbformat_minor": 2
}
