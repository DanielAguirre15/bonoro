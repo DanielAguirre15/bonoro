{
 "cells": [
  {
   "cell_type": "markdown",
   "metadata": {},
   "source": [
    "<h3>Como Criar uma Conta no GitHub</h3>\n",
    "\n",
    "\n",
    "1- Ir no site https://github.com/join.\n",
    "\n",
    "2- Inserir um nome de usuário, endereço de e-mail válido e senha.\n",
    "\n",
    "3- Dar um check no checkbox dos Termos de Serviço do GitHub e clicar em \"Criar uma conta\" para concluir o processo."
   ]
  },
  {
   "cell_type": "markdown",
   "metadata": {},
   "source": [
    "<h3>Criando um Repositório</h3>\n",
    "\n",
    "1- Clique em New repository.\n",
    "\n",
    "2- Colocar o nome e descrição do repositório que você está criando e concluir.\n",
    "\n",
    "Obs: Repositório está vazio, deve incluir os arquivos lá."
   ]
  },
  {
   "cell_type": "markdown",
   "metadata": {},
   "source": [
    "<h3>Inicializando um repositório na sua máquina</h3>\n",
    "\n",
    "1- Abra o Git Bash e vá até a pasta onde está o seu projeto. \n",
    "\n",
    "2- Para transformar a pasta em um repositório Git, digitar git init e dar enter:\n",
    "\n",
    "$ git init\n",
    "Initialized empty Git repository in C:/Users/~~/bonoro/.git/\n",
    "\n",
    "\n",
    "<h3>Adicionando uma Origin</h3>\n",
    "\n",
    "1- Executar esse comando:\n",
    "\n",
    "git remote add origin git@github.com:DanielAguirre15/bonoro.git\n",
    "\n",
    "<h3>Enviando alterações para o Github</h3>\n",
    "\n",
    "Quando estou dentro de uma pasta que é um repositório Git e quero saber o que eu fiz de alterações, eu digito o seguinte comando:\n",
    "\n",
    "1- git status  \n",
    "\n",
    "Ele irá mostrar:\n",
    "\n",
    "On branch master\n",
    "\n",
    "No commits yet\n",
    "\n",
    "Untracked files:\n",
    "  (use \"git add <file>...\" to include in what will be committed)\n",
    "\n",
    "        GitHub - como instalar.ipynb\n",
    "        Instalando o Arduino IDE.ipynb\n",
    "        Instalando o Jupyter.ipynb\n",
    "\n",
    "\n",
    "nothing added to commit but untracked files present (use \"git add\" to track)\n",
    "\n",
    "2- git add.\n",
    "\n",
    "Com esse comando, eu adicionei todos os arquivos ao Git. Se eu der git status de novo:\n",
    "\n",
    "3- git status\n",
    "\n",
    "On branch master\n",
    "\n",
    "No commits yet\n",
    "\n",
    "Changes to be committed:\n",
    "  (use \"git rm --cached <file>...\" to unstage)\n",
    "\n",
    "        new file:   GitHub - como instalar.ipynb\n",
    "        new file:   Instalando o Arduino IDE.ipynb\n",
    "        new file:   Instalando o Jupyter.ipynb\n",
    "\n",
    "Agora ele me mostra que o arquivo está para ser comitado. Ou seja, ele ainda não guardou o estado do arquivo permanentemente, é só temporário. \n",
    "\n",
    "Se eu quiser que seja permantente, uso o git commit:\n",
    "\n",
    "4- git commit -am \"teste\"  \n",
    "\n",
    "Agora quero enviar isso para o meu repositório remoto:\n",
    "\n",
    "5- git push -u origin master  "
   ]
  },
  {
   "cell_type": "code",
   "execution_count": null,
   "metadata": {},
   "outputs": [],
   "source": []
  }
 ],
 "metadata": {
  "kernelspec": {
   "display_name": "Python 3",
   "language": "python",
   "name": "python3"
  },
  "language_info": {
   "codemirror_mode": {
    "name": "ipython",
    "version": 3
   },
   "file_extension": ".py",
   "mimetype": "text/x-python",
   "name": "python",
   "nbconvert_exporter": "python",
   "pygments_lexer": "ipython3",
   "version": "3.7.3"
  }
 },
 "nbformat": 4,
 "nbformat_minor": 2
}
