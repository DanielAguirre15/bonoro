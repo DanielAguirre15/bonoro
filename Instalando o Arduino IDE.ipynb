{
 "cells": [
  {
   "cell_type": "markdown",
   "metadata": {},
   "source": [
    "<h3>Instalando o Arduino IDE</h3>\n",
    "\n",
    "1- Ir no site, fazer o download, baixar versão mais atual para Windows.\n",
    "\n",
    "2- Escolhi a opção baixar em formato zip.\n",
    "\n",
    "3- Descompactar os arquivos na pastas onde foi baixado.\n",
    "\n",
    "4- Executar o programa."
   ]
  },
  {
   "cell_type": "code",
   "execution_count": null,
   "metadata": {},
   "outputs": [],
   "source": []
  }
 ],
 "metadata": {
  "kernelspec": {
   "display_name": "Python 3",
   "language": "python",
   "name": "python3"
  },
  "language_info": {
   "codemirror_mode": {
    "name": "ipython",
    "version": 3
   },
   "file_extension": ".py",
   "mimetype": "text/x-python",
   "name": "python",
   "nbconvert_exporter": "python",
   "pygments_lexer": "ipython3",
   "version": "3.7.3"
  }
 },
 "nbformat": 4,
 "nbformat_minor": 2
}
